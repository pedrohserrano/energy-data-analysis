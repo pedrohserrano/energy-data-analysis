{
 "cells": [
  {
   "cell_type": "markdown",
   "metadata": {},
   "source": [
    "## Energy data transformation"
   ]
  },
  {
   "cell_type": "code",
   "execution_count": 1,
   "metadata": {},
   "outputs": [],
   "source": [
    "import pandas as pd"
   ]
  },
  {
   "cell_type": "markdown",
   "metadata": {},
   "source": [
    "**0. Load prerequisites**"
   ]
  },
  {
   "cell_type": "code",
   "execution_count": 2,
   "metadata": {},
   "outputs": [],
   "source": [
    "datasets = !ls datasets\n",
    "years = list(range(2000,2018))\n",
    "countries = list(pd.read_csv('datasets/'+str(datasets[0])).Country)"
   ]
  },
  {
   "cell_type": "code",
   "execution_count": 5,
   "metadata": {},
   "outputs": [
    {
     "data": {
      "text/plain": [
       "['(0)countries.csv',\n",
       " '(1990-2015)Consumption_GDP ratio.csv',\n",
       " '(Not complete) R_D Total Support in Million Euros.xlsx',\n",
       " '1971-2014Electric power consumption (kWh per capita).xls',\n",
       " '1990-2015GDP per capita (current US$).xls',\n",
       " '1990-2015Renewable electricity output (_ of total electricity output).xls',\n",
       " 'Global Climate Legislation Database.csv',\n",
       " 'countrydatasheets_august2018 (1).xlsx',\n",
       " 'expenditures on R_D in percentage of GDP.xls',\n",
       " 'household_EU_2009-2017_ilc_di04_1_Data.csv']"
      ]
     },
     "execution_count": 5,
     "metadata": {},
     "output_type": "execute_result"
    }
   ],
   "source": [
    "datasets"
   ]
  },
  {
   "cell_type": "markdown",
   "metadata": {},
   "source": [
    "** 1. Percentage of the Total of Renewable energy consumption **"
   ]
  },
  {
   "cell_type": "code",
   "execution_count": 3,
   "metadata": {},
   "outputs": [],
   "source": [
    "renewable_energy = pd.read_csv('datasets/'+str(datasets[1]))"
   ]
  },
  {
   "cell_type": "code",
   "execution_count": 4,
   "metadata": {},
   "outputs": [
    {
     "data": {
      "text/html": [
       "<div>\n",
       "<style scoped>\n",
       "    .dataframe tbody tr th:only-of-type {\n",
       "        vertical-align: middle;\n",
       "    }\n",
       "\n",
       "    .dataframe tbody tr th {\n",
       "        vertical-align: top;\n",
       "    }\n",
       "\n",
       "    .dataframe thead th {\n",
       "        text-align: right;\n",
       "    }\n",
       "</style>\n",
       "<table border=\"1\" class=\"dataframe\">\n",
       "  <thead>\n",
       "    <tr style=\"text-align: right;\">\n",
       "      <th></th>\n",
       "      <th>Entity</th>\n",
       "      <th>Code</th>\n",
       "      <th>Year</th>\n",
       "      <th>Renewable energy consumption (% of total final energy consumption) (% of total final energy consumption)</th>\n",
       "      <th>GDP per capita, PPP (constant 2011 international $) (constant 2011 international $)</th>\n",
       "      <th>Total population (Gapminder)</th>\n",
       "    </tr>\n",
       "  </thead>\n",
       "  <tbody>\n",
       "    <tr>\n",
       "      <th>0</th>\n",
       "      <td>Afghanistan</td>\n",
       "      <td>AFG</td>\n",
       "      <td>1800</td>\n",
       "      <td>NaN</td>\n",
       "      <td>NaN</td>\n",
       "      <td>3280000.0</td>\n",
       "    </tr>\n",
       "    <tr>\n",
       "      <th>1</th>\n",
       "      <td>Afghanistan</td>\n",
       "      <td>AFG</td>\n",
       "      <td>1820</td>\n",
       "      <td>NaN</td>\n",
       "      <td>NaN</td>\n",
       "      <td>3280000.0</td>\n",
       "    </tr>\n",
       "    <tr>\n",
       "      <th>2</th>\n",
       "      <td>Afghanistan</td>\n",
       "      <td>AFG</td>\n",
       "      <td>1870</td>\n",
       "      <td>NaN</td>\n",
       "      <td>NaN</td>\n",
       "      <td>4207000.0</td>\n",
       "    </tr>\n",
       "  </tbody>\n",
       "</table>\n",
       "</div>"
      ],
      "text/plain": [
       "        Entity Code  Year  \\\n",
       "0  Afghanistan  AFG  1800   \n",
       "1  Afghanistan  AFG  1820   \n",
       "2  Afghanistan  AFG  1870   \n",
       "\n",
       "   Renewable energy consumption (% of total final energy consumption) (% of total final energy consumption)  \\\n",
       "0                                                NaN                                                          \n",
       "1                                                NaN                                                          \n",
       "2                                                NaN                                                          \n",
       "\n",
       "   GDP per capita, PPP (constant 2011 international $) (constant 2011 international $)  \\\n",
       "0                                                NaN                                     \n",
       "1                                                NaN                                     \n",
       "2                                                NaN                                     \n",
       "\n",
       "   Total population (Gapminder)  \n",
       "0                     3280000.0  \n",
       "1                     3280000.0  \n",
       "2                     4207000.0  "
      ]
     },
     "execution_count": 4,
     "metadata": {},
     "output_type": "execute_result"
    }
   ],
   "source": [
    "renewable_energy.head(3)"
   ]
  },
  {
   "cell_type": "code",
   "execution_count": null,
   "metadata": {},
   "outputs": [],
   "source": [
    "renewable_energy = renewable_energy[['Entity','Year',\n",
    "                                     'Renewable energy consumption (% of total final energy consumption) (% of total final energy consumption)']]\n",
    "renewable_energy.columns = ['country','year','percentage_renewable_energy']\n",
    "renewable_energy = renewable_energy[(renewable_energy.year.isin(years)) & \n",
    "                                    (renewable_energy.country.isin(countries))]"
   ]
  },
  {
   "cell_type": "code",
   "execution_count": null,
   "metadata": {},
   "outputs": [],
   "source": [
    "renewable_energy.head(3)"
   ]
  },
  {
   "cell_type": "markdown",
   "metadata": {},
   "source": [
    "** 2. Total RD&D in Million Euro **"
   ]
  },
  {
   "cell_type": "code",
   "execution_count": null,
   "metadata": {},
   "outputs": [],
   "source": [
    "research_energy = pd.read_excel('datasets/'+str(datasets[2]), header=4 ,sheet='OECD.Stat export')"
   ]
  },
  {
   "cell_type": "code",
   "execution_count": null,
   "metadata": {},
   "outputs": [],
   "source": [
    "research_energy.head(3)"
   ]
  },
  {
   "cell_type": "code",
   "execution_count": null,
   "metadata": {},
   "outputs": [],
   "source": [
    "research_energy = pd.melt(research_energy, id_vars=research_energy.columns[0], \n",
    "            value_vars=list(research_energy.columns[1:]), var_name='Year', value_name='rrd_million_euro')\n",
    "research_energy.columns = ['country','year','rrd_million_euro']\n",
    "research_energy = research_energy[(research_energy.year.isin(list(map(str,years))))&\n",
    "                                 (research_energy.country.isin(countries))]\n",
    "research_energy.year = list(map(int, research_energy.year))\n",
    "research_energy.rrd_million_euro = [0 if type(i) == str else i for i in research_energy.rrd_million_euro]"
   ]
  },
  {
   "cell_type": "code",
   "execution_count": null,
   "metadata": {},
   "outputs": [],
   "source": [
    "research_energy.head(3)"
   ]
  },
  {
   "cell_type": "markdown",
   "metadata": {},
   "source": [
    "** 3. Electric power consumption (kWh per capita) **"
   ]
  },
  {
   "cell_type": "code",
   "execution_count": null,
   "metadata": {},
   "outputs": [],
   "source": [
    "electric_consumption = pd.read_excel('datasets/'+str(datasets[3]), header=3 ,sheet='Data')"
   ]
  },
  {
   "cell_type": "code",
   "execution_count": null,
   "metadata": {},
   "outputs": [],
   "source": [
    "electric_consumption.head(3)"
   ]
  },
  {
   "cell_type": "code",
   "execution_count": null,
   "metadata": {},
   "outputs": [],
   "source": [
    "electric_consumption = pd.melt(electric_consumption, id_vars=electric_consumption.columns[0], \n",
    "            value_vars=list(electric_consumption.columns[1:]), var_name='Year',\n",
    "            value_name='kwh_per_capita_consumption')\n",
    "electric_consumption.columns = ['country','year','kwh_per_capita_consumption']\n",
    "electric_consumption = electric_consumption[(electric_consumption.year.isin(list(map(str,years)))) &\n",
    "                                           (electric_consumption.country.isin(countries))]\n",
    "electric_consumption.year = list(map(int, electric_consumption.year))"
   ]
  },
  {
   "cell_type": "code",
   "execution_count": null,
   "metadata": {},
   "outputs": [],
   "source": [
    "electric_consumption.head(3)"
   ]
  },
  {
   "cell_type": "markdown",
   "metadata": {},
   "source": [
    "** 4. GDP per capita (current US$) **"
   ]
  },
  {
   "cell_type": "code",
   "execution_count": null,
   "metadata": {},
   "outputs": [],
   "source": [
    "gdp_per_capita = pd.read_excel('datasets/'+str(datasets[4]), header=3 ,sheet='Data')"
   ]
  },
  {
   "cell_type": "code",
   "execution_count": null,
   "metadata": {},
   "outputs": [],
   "source": [
    "gdp_per_capita.head(3)"
   ]
  },
  {
   "cell_type": "code",
   "execution_count": null,
   "metadata": {},
   "outputs": [],
   "source": [
    "gdp_per_capita = pd.melt(gdp_per_capita, id_vars=gdp_per_capita.columns[0], \n",
    "            value_vars=list(gdp_per_capita.columns[1:]), var_name='Year', \n",
    "            value_name='gdp_per_capita')\n",
    "gdp_per_capita.columns = ['country','year','gdp_per_capita']\n",
    "gdp_per_capita = gdp_per_capita[(gdp_per_capita.year.isin(list(map(str,years)))) &\n",
    "                               (gdp_per_capita.country.isin(countries))]\n",
    "gdp_per_capita.year = list(map(int, gdp_per_capita.year))"
   ]
  },
  {
   "cell_type": "code",
   "execution_count": null,
   "metadata": {},
   "outputs": [],
   "source": [
    "gdp_per_capita.head(3)"
   ]
  },
  {
   "cell_type": "markdown",
   "metadata": {},
   "source": [
    "** 5. Renewable electricity output (% of total electricity output)**"
   ]
  },
  {
   "cell_type": "code",
   "execution_count": null,
   "metadata": {},
   "outputs": [],
   "source": [
    "renewable_electricity = pd.read_excel('datasets/'+str(datasets[5]), header=3 ,sheet='Data')"
   ]
  },
  {
   "cell_type": "code",
   "execution_count": null,
   "metadata": {},
   "outputs": [],
   "source": [
    "renewable_electricity.head(3)"
   ]
  },
  {
   "cell_type": "code",
   "execution_count": null,
   "metadata": {},
   "outputs": [],
   "source": [
    "renewable_electricity = pd.melt(renewable_electricity, id_vars=renewable_electricity.columns[0], \n",
    "            value_vars=list(renewable_electricity.columns[1:]), \n",
    "            var_name='Year', \n",
    "            value_name='percentage_renewable_electricity')\n",
    "\n",
    "renewable_electricity.columns = ['country','year','percentage_renewable_electricity']\n",
    "renewable_electricity = renewable_electricity[(renewable_electricity.year.isin(list(map(str,years))))&\n",
    "                                             (renewable_electricity.country.isin(countries))]\n",
    "renewable_electricity.year = list(map(int, renewable_electricity.year))"
   ]
  },
  {
   "cell_type": "code",
   "execution_count": null,
   "metadata": {},
   "outputs": [],
   "source": [
    "renewable_electricity.head(3)"
   ]
  },
  {
   "cell_type": "markdown",
   "metadata": {},
   "source": [
    "**6. Number of climate legislation acts**"
   ]
  },
  {
   "cell_type": "code",
   "execution_count": null,
   "metadata": {},
   "outputs": [],
   "source": [
    "legislation_acts =  pd.read_csv('datasets/'+str(datasets[6]))"
   ]
  },
  {
   "cell_type": "code",
   "execution_count": null,
   "metadata": {},
   "outputs": [],
   "source": [
    "legislation_acts.head(3)"
   ]
  },
  {
   "cell_type": "code",
   "execution_count": null,
   "metadata": {},
   "outputs": [],
   "source": [
    "legislation_acts = legislation_acts.groupby(['Country','Year Passed']).count()['Name'].reset_index()\n",
    "legislation_acts.columns = ['country','year','number_of_legislation_acts']\n",
    "legislation_acts = legislation_acts[(legislation_acts.year.isin(years)) &\n",
    "                                   (legislation_acts.country.isin(countries))]"
   ]
  },
  {
   "cell_type": "code",
   "execution_count": null,
   "metadata": {},
   "outputs": [],
   "source": [
    "legislation_acts.head(3)"
   ]
  },
  {
   "cell_type": "markdown",
   "metadata": {},
   "source": [
    "** 7. CO2 emitions**"
   ]
  },
  {
   "cell_type": "code",
   "execution_count": null,
   "metadata": {},
   "outputs": [],
   "source": [
    "#pd.read_excel('datasets/'+str(datasets[7]), header=0 ,sheet='aggregator by year')"
   ]
  },
  {
   "cell_type": "markdown",
   "metadata": {},
   "source": [
    "** 8. Gross domestic expenditure on R&D in % of GDP**"
   ]
  },
  {
   "cell_type": "code",
   "execution_count": null,
   "metadata": {},
   "outputs": [],
   "source": [
    "rd_expenditure = pd.read_excel('datasets/'+str(datasets[8]), header=3 ,sheet='Sheet0')"
   ]
  },
  {
   "cell_type": "code",
   "execution_count": null,
   "metadata": {},
   "outputs": [],
   "source": [
    "rd_expenditure.head(3)"
   ]
  },
  {
   "cell_type": "code",
   "execution_count": null,
   "metadata": {},
   "outputs": [],
   "source": [
    "rd_expenditure = pd.melt(rd_expenditure, id_vars=rd_expenditure.columns[0], \n",
    "            value_vars=list(rd_expenditure.columns[1:]), var_name='Year', \n",
    "            value_name='rd_expenditure_on_share_gdp')\n",
    "rd_expenditure.columns = ['country','year','rd_expenditure_on_share_gdp']\n",
    "rd_expenditure.country = [i[3:] for i in rd_expenditure.country]\n",
    "rd_expenditure = rd_expenditure[(rd_expenditure.year.isin(list(map(str,years)))) &\n",
    "                               (rd_expenditure.country.isin(countries))]\n",
    "\n",
    "rd_expenditure.year = list(map(int, rd_expenditure.year))\n",
    "rd_expenditure.rd_expenditure_on_share_gdp = [\n",
    "    0 if type(i) == str else i for i in rd_expenditure.rd_expenditure_on_share_gdp]"
   ]
  },
  {
   "cell_type": "code",
   "execution_count": null,
   "metadata": {},
   "outputs": [],
   "source": [
    "rd_expenditure.head(3)"
   ]
  },
  {
   "cell_type": "markdown",
   "metadata": {},
   "source": [
    "** 9. Median equivalised net income of EU Household**"
   ]
  },
  {
   "cell_type": "code",
   "execution_count": null,
   "metadata": {},
   "outputs": [],
   "source": [
    "household_income = pd.read_csv('datasets/'+str(datasets[9]))"
   ]
  },
  {
   "cell_type": "code",
   "execution_count": null,
   "metadata": {},
   "outputs": [],
   "source": [
    "household_income.head(3)"
   ]
  },
  {
   "cell_type": "code",
   "execution_count": null,
   "metadata": {},
   "outputs": [],
   "source": [
    "household_income = household_income[(household_income.HHTYP=='Total') &\n",
    "                                    ((household_income.UNIT=='Euro'))][['GEO','TIME','Value']]\n",
    "household_income.columns = ['country','year','median_household_income']\n",
    "household_income.country = [i.replace(\n",
    "    'Germany (until 1990 former territory of the FRG)','Germany') for i in household_income.country]\n",
    "household_income = household_income[(household_income.year.isin(years))&\n",
    "                                   (household_income.country.isin(countries))]\n",
    "replacement = [i.replace(',','.') for i in household_income.median_household_income]\n",
    "replacement = [j.replace(':','0') for j in replacement]\n",
    "household_income.median_household_income = list(map(float, replacement))"
   ]
  },
  {
   "cell_type": "code",
   "execution_count": null,
   "metadata": {},
   "outputs": [],
   "source": [
    "household_income.head(3)"
   ]
  },
  {
   "cell_type": "markdown",
   "metadata": {},
   "source": [
    "** Create an spreadsheet**"
   ]
  },
  {
   "cell_type": "code",
   "execution_count": null,
   "metadata": {},
   "outputs": [],
   "source": [
    "countries_years = pd.DataFrame()\n",
    "countries_years['country'] = sorted(countries)*len(years)\n",
    "countries_years['year'] = [i for s in [[y]*len(countries) for y in years] for i in s]"
   ]
  },
  {
   "cell_type": "code",
   "execution_count": null,
   "metadata": {},
   "outputs": [],
   "source": [
    "tables = {'Countries Years':countries_years,\n",
    "          'Renewable Energy':renewable_energy,\n",
    "          'Research Energy':research_energy,\n",
    "          'Electric Consumption':electric_consumption,\n",
    "          'Gdp per Capita':gdp_per_capita,\n",
    "          'Renewable Electricity':renewable_electricity,\n",
    "          'Legislation Acts':legislation_acts,\n",
    "          'RD Expenditure':rd_expenditure,\n",
    "          'Household Income':household_income}"
   ]
  },
  {
   "cell_type": "code",
   "execution_count": null,
   "metadata": {},
   "outputs": [],
   "source": [
    "excelbook = pd.ExcelWriter('energy_data.xlsx')\n",
    "for name, table in tables.items():\n",
    "    table.to_excel(excelbook, name, index=False)\n",
    "excelbook.save()    "
   ]
  }
 ],
 "metadata": {
  "kernelspec": {
   "display_name": "Python 3",
   "language": "python",
   "name": "python3"
  },
  "language_info": {
   "codemirror_mode": {
    "name": "ipython",
    "version": 3
   },
   "file_extension": ".py",
   "mimetype": "text/x-python",
   "name": "python",
   "nbconvert_exporter": "python",
   "pygments_lexer": "ipython3",
   "version": "3.6.5"
  }
 },
 "nbformat": 4,
 "nbformat_minor": 2
}
